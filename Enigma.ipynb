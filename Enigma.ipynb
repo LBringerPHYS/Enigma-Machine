{
 "cells": [
  {
   "cell_type": "code",
   "execution_count": 1,
   "id": "f6c0ccf0-aa8e-4eca-8ab1-ad88a7ba3d1f",
   "metadata": {},
   "outputs": [],
   "source": [
    "import numpy as np\n",
    "import pandas as pd"
   ]
  },
  {
   "cell_type": "code",
   "execution_count": 2,
   "id": "0ff23069-49c4-477e-97a1-c5d69352e971",
   "metadata": {},
   "outputs": [],
   "source": [
    "Rotor_1 = [\"8\",\"c\",\"x\",\"6\",\"ç\",\"z\",\"f\",\"g\",\"9\",\"h\",\"ı\",\"i\",\"7\",\"j\",\"n\",\"u\",\"k\",\"q\",\"r\",\"5\",\"ş\",\"t\",\"4\",\" \",\"v\",\\\n",
    "          \"0\",\"1\",\"ü\",\"2\",\"a\",\"b\",\"s\",\"l\",\"y\",\"m\",\"o\",\"e\",\"ğ\",\"ö\",\"d\",\"p\",\"3\"]\n",
    "\n",
    "Rotor_2 = [\"t\",\"e\",\"y\",\"f\",\"1\",\"h\",\"ı\",\"d\",\"7\",\"ğ\",\"ç\",\"k\",\"9\",\"a\",\"n\",\"o\",\"3\",\"p\",\"q\",\"g\",\"r\",\"ş\",\"l\",\"i\",\" \",\"j\",\"u\",\"b\",\"ü\",\"v\",\\\n",
    "          \"0\",\"m\",\"x\",\"2\",\"c\",\"4\",\"5\",\"s\",\"ö\",\"8\",\"z\",\"6\"]\n",
    "\n",
    "Rotor_3 = [\"y\",\"b\",\"l\",\"c\",\"p\",\"9\",\"x\",\"e\",\"0\",\"f\",\"n\",\"q\",\"8\",\" \",\"g\",\"5\",\"ü\",\"ğ\",\"z\",\"i\",\"ç\",\"j\",\"a\",\"h\",\"o\",\"r\",\"s\",\"d\",\"k\",\"ş\",\"t\",\"u\",\\\n",
    "          \"1\",\"ı\",\"ö\",\"v\",\"2\",\"3\",\"4\",\"6\",\"m\",\"7\"]\n",
    "\n",
    "alphabet = [\"a\",\"b\",\"c\",\"ç\",\"d\",\"e\",\"f\",\"g\",\"ğ\",\"h\",\"ı\",\"i\",\"j\",\"k\",\"l\",\"m\",\"n\",\"o\",\"ö\",\"p\",\"q\",\"r\",\"s\",\"ş\",\"t\",\"u\",\"ü\",\"v\",\"x\",\"y\",\"z\",\\\n",
    "          \"0\",\"1\",\"2\",\"3\",\"4\",\"5\",\"6\",\"7\",\"8\",\"9\",\" \",]"
   ]
  },
  {
   "cell_type": "code",
   "execution_count": 3,
   "id": "eced0da1-2653-4a69-87a3-c2b8709d8889",
   "metadata": {},
   "outputs": [],
   "source": [
    "encryptedbool = True #True for encrypted, False for descrypted"
   ]
  },
  {
   "cell_type": "code",
   "execution_count": 4,
   "id": "15216afb-920b-41b8-b5ea-53475b56faa0",
   "metadata": {},
   "outputs": [],
   "source": [
    "def is_convertible_to_int(str):\n",
    "    try:\n",
    "        int(str)\n",
    "        return False\n",
    "    except ValueError:\n",
    "        return True #first time we see it, we think it must be reversed but i want to break while loop."
   ]
  },
  {
   "cell_type": "code",
   "execution_count": 5,
   "id": "aac1d7c4-f0c4-4c4f-a5b6-332f8eb12ae3",
   "metadata": {},
   "outputs": [
    {
     "name": "stdin",
     "output_type": "stream",
     "text": [
      "Password(First 6 digit is number and last letter is E for Encrypt, C for Descrypt): 3131E\n"
     ]
    },
    {
     "name": "stdout",
     "output_type": "stream",
     "text": [
      "You entered invalid password.\n"
     ]
    },
    {
     "name": "stdin",
     "output_type": "stream",
     "text": [
      "Password(First 6 digit is number and last letter is E for Encrypt, C for Descrypt): 3131C\n"
     ]
    },
    {
     "name": "stdout",
     "output_type": "stream",
     "text": [
      "You entered invalid password.\n"
     ]
    },
    {
     "name": "stdin",
     "output_type": "stream",
     "text": [
      "Password(First 6 digit is number and last letter is E for Encrypt, C for Descrypt): 31E\n"
     ]
    },
    {
     "name": "stdout",
     "output_type": "stream",
     "text": [
      "You entered invalid password.\n"
     ]
    },
    {
     "name": "stdin",
     "output_type": "stream",
     "text": [
      "Password(First 6 digit is number and last letter is E for Encrypt, C for Descrypt): 31C\n"
     ]
    },
    {
     "name": "stdout",
     "output_type": "stream",
     "text": [
      "You entered invalid password.\n"
     ]
    },
    {
     "name": "stdin",
     "output_type": "stream",
     "text": [
      "Password(First 6 digit is number and last letter is E for Encrypt, C for Descrypt): qwe\n"
     ]
    },
    {
     "name": "stdout",
     "output_type": "stream",
     "text": [
      "You entered invalid password.\n"
     ]
    },
    {
     "name": "stdin",
     "output_type": "stream",
     "text": [
      "Password(First 6 digit is number and last letter is E for Encrypt, C for Descrypt): ^!^!^!^!\n"
     ]
    },
    {
     "name": "stdout",
     "output_type": "stream",
     "text": [
      "You entered invalid password.\n"
     ]
    },
    {
     "name": "stdin",
     "output_type": "stream",
     "text": [
      "Password(First 6 digit is number and last letter is E for Encrypt, C for Descrypt): 313131\n"
     ]
    },
    {
     "name": "stdout",
     "output_type": "stream",
     "text": [
      "You entered invalid password.\n"
     ]
    },
    {
     "name": "stdin",
     "output_type": "stream",
     "text": [
      "Password(First 6 digit is number and last letter is E for Encrypt, C for Descrypt): 313131H\n"
     ]
    },
    {
     "name": "stdout",
     "output_type": "stream",
     "text": [
      "You entered invalid password.\n"
     ]
    },
    {
     "name": "stdin",
     "output_type": "stream",
     "text": [
      "Password(First 6 digit is number and last letter is E for Encrypt, C for Descrypt): 313131C\n"
     ]
    }
   ],
   "source": [
    "Password = \"0\"\n",
    "while(Password[-1] != \"E\" and Password[-1] != \"C\" or len(Password) != 7 or is_convertible_to_int(Password[0:6])):\n",
    "    Password = input(\"Password(First 6 digit is number and last letter is E for Encrypt, C for Descrypt):\",)\n",
    "    if(Password[-1] != \"E\" and Password[-1] != \"C\" or len(Password) != 7 or is_convertible_to_int(Password[0:6])):\n",
    "        print(\"You entered invalid password.\")"
   ]
  },
  {
   "cell_type": "code",
   "execution_count": 6,
   "id": "f2b91c56-46b9-453f-be1d-3a93e7739878",
   "metadata": {},
   "outputs": [],
   "source": [
    "if(Password[-1] == \"E\"):\n",
    "    encryptedbool = True\n",
    "elif(Password[-1] == \"C\"):\n",
    "    encryptedbool = False"
   ]
  },
  {
   "cell_type": "code",
   "execution_count": null,
   "id": "09bc41aa-ea25-4d8a-bc22-87292d6c1dfa",
   "metadata": {},
   "outputs": [],
   "source": [
    "boolwhile = True \n",
    "while(boolwhile):\n",
    "    InputTextPath = input(\"File path of input text: \")\n",
    "    try:\n",
    "        with open(InputTextPath, \"r\", encoding=\"utf-8\") as file:\n",
    "            enctext = file.read()\n",
    "        boolwhile = False\n",
    "    except:\n",
    "        print(\"File not find.\")\n",
    "        boolwhile = True"
   ]
  },
  {
   "cell_type": "code",
   "execution_count": null,
   "id": "39ca2c41-221e-4d3a-be0b-8fe0320594e4",
   "metadata": {},
   "outputs": [],
   "source": [
    "enctext = enctext.lower()"
   ]
  },
  {
   "cell_type": "code",
   "execution_count": null,
   "id": "2ce07a37-856f-4739-988e-790b35553965",
   "metadata": {},
   "outputs": [],
   "source": [
    "def newpassword(password):\n",
    "    newpassword = [[],[],[]]\n",
    "    for i in range(3):\n",
    "        newpassword[i] = int(password[i*2]+ password[i*2+1])\n",
    "        length = len(alphabet)-1\n",
    "        while(newpassword[i] > length):\n",
    "            newpassword[i] -= length\n",
    "    return newpassword"
   ]
  },
  {
   "cell_type": "code",
   "execution_count": null,
   "id": "f06d5642-0017-4bb7-b137-e28847978e74",
   "metadata": {},
   "outputs": [],
   "source": [
    "def Set_RotateRotor(password,Rotors):\n",
    "    new_password = newpassword(password)\n",
    "    NewRotors = [[],[],[]]\n",
    "    for i in range(len(Rotors)):\n",
    "        for x in Rotors[i]:\n",
    "            DelArray = Rotors[i][:int(new_password[i])]\n",
    "            AppArray = Rotors[i][int(new_password[i]):]\n",
    "            NewRotors[i] = AppArray + DelArray\n",
    "    return NewRotors"
   ]
  },
  {
   "cell_type": "code",
   "execution_count": null,
   "id": "7aa6b83a-4b3b-4d32-8c28-760c3569323c",
   "metadata": {},
   "outputs": [],
   "source": [
    "def RotateRotor(Rotor):\n",
    "    deletedletter = Rotor.pop(0)\n",
    "    Rotor.append(deletedletter)\n",
    "    return Rotor"
   ]
  },
  {
   "cell_type": "code",
   "execution_count": null,
   "id": "18b84fdb-d5e1-42dc-8218-7685f462335d",
   "metadata": {},
   "outputs": [],
   "source": [
    "Rotor_1,Rotor_2,Rotor_3 = Set_RotateRotor(Password,[Rotor_1,Rotor_2,Rotor_3])[0],Set_RotateRotor(Password,[Rotor_1,Rotor_2,Rotor_3])[1],Set_RotateRotor(Password,[Rotor_1,Rotor_2,Rotor_3])[2]"
   ]
  },
  {
   "cell_type": "code",
   "execution_count": null,
   "id": "35b2cdc9-6e89-46c6-8eb6-15342b638ebe",
   "metadata": {},
   "outputs": [],
   "source": [
    "lengthofgiventext = len(enctext)"
   ]
  },
  {
   "cell_type": "code",
   "execution_count": null,
   "id": "8e66a5e5-9eda-49c8-86fa-7430f9fb8da8",
   "metadata": {},
   "outputs": [],
   "source": [
    "if(encryptedbool):\n",
    "    EncryptedTextFinal = []\n",
    "    for i in range(lengthofgiventext):#Encrypt the text file\n",
    "        if(enctext[i] not in alphabet):\n",
    "            EncryptedTextFinal.append(enctext[i])\n",
    "        else:\n",
    "            letterindex = alphabet.index(enctext[i])\n",
    "            letterindex1 = alphabet.index(Rotor_1[letterindex])\n",
    "            RotateRotor(Rotor_1)\n",
    "            letterindex2 = alphabet.index(Rotor_2[letterindex1])\n",
    "            RotateRotor(Rotor_2)\n",
    "            letter = Rotor_3[letterindex2]\n",
    "            RotateRotor(Rotor_3)\n",
    "            EncryptedTextFinal.append(letter)\n",
    "else:\n",
    "    DescryptedText = []\n",
    "    for i in range(lengthofgiventext):#Descrypt the text file\n",
    "        if(enctext[i] not in alphabet):\n",
    "            DescryptedText.append(enctext[i])\n",
    "        else:\n",
    "            letterindex2 = Rotor_3.index(enctext[i])\n",
    "            RotateRotor(Rotor_3)\n",
    "            latterindex1 = Rotor_2.index(alphabet[letterindex2])\n",
    "            RotateRotor(Rotor_2)\n",
    "            latterindex = Rotor_1.index(alphabet[latterindex1])\n",
    "            RotateRotor(Rotor_1)\n",
    "            letter = alphabet[latterindex]\n",
    "            DescryptedText.append(letter)"
   ]
  },
  {
   "cell_type": "code",
   "execution_count": null,
   "id": "ac9946bf-e2ca-4730-b473-37bed9bf98cf",
   "metadata": {},
   "outputs": [],
   "source": [
    "if(encryptedbool):\n",
    "    EncryptedFinal = \"\"\n",
    "    for x in EncryptedTextFinal:\n",
    "        EncryptedFinal += x\n",
    "else:\n",
    "    DescryptedFinal = \"\"\n",
    "    for x in DescryptedText:\n",
    "        DescryptedFinal += x"
   ]
  },
  {
   "cell_type": "code",
   "execution_count": null,
   "id": "f7721c93-338e-45d2-a34f-7933fcc4d79c",
   "metadata": {},
   "outputs": [],
   "source": [
    "boolwhile1 = True\n",
    "while(boolwhile1):\n",
    "    Pathofoutput = input(\"File path for output(don't write '\\\\' for at the last latter)\\n Example: C:\\\\Users\\\\A\\\\Desktop :\")\n",
    "    try:\n",
    "        if(encryptedbool):\n",
    "            with open(Pathofoutput+\"\\Encrypted.txt\", \"w\",encoding=\"utf-8\") as file:\n",
    "                file.write(EncryptedFinal)\n",
    "        else:\n",
    "            with open(Pathofoutput+\"\\Descrypted.txt\", \"w\",encoding=\"utf-8\") as file:\n",
    "                file.write(DescryptedFinal)\n",
    "        boolwhile1 = False\n",
    "    except:\n",
    "        print(\"Invalid file path.\")\n",
    "        boolwhile1 = True"
   ]
  }
 ],
 "metadata": {
  "kernelspec": {
   "display_name": "Python 3 (ipykernel)",
   "language": "python",
   "name": "python3"
  },
  "language_info": {
   "codemirror_mode": {
    "name": "ipython",
    "version": 3
   },
   "file_extension": ".py",
   "mimetype": "text/x-python",
   "name": "python",
   "nbconvert_exporter": "python",
   "pygments_lexer": "ipython3",
   "version": "3.8.8"
  }
 },
 "nbformat": 4,
 "nbformat_minor": 5
}
